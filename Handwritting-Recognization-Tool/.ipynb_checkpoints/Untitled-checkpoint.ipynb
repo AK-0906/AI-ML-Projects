{
 "cells": [
  {
   "cell_type": "code",
   "execution_count": 1,
   "id": "c2d26b35-96fa-4e5c-bc0d-794a23e63b54",
   "metadata": {},
   "outputs": [],
   "source": [
    "from transformers import pipeline\n",
    "from PIL import Image"
   ]
  },
  {
   "cell_type": "code",
   "execution_count": 2,
   "id": "9437d732-0b8c-43e2-8129-b0d0e25b1dc7",
   "metadata": {},
   "outputs": [],
   "source": [
    "# # Initialize the pipeline with the specific model\n",
    "# pipe = pipeline(\"image-to-text\", model=\"microsoft/trocr-base-handwritten\")"
   ]
  },
  {
   "cell_type": "code",
   "execution_count": 3,
   "id": "bc0abfd6-0353-40d8-b1a4-c3b07aa0170a",
   "metadata": {},
   "outputs": [],
   "source": [
    "# Load your image (ensure the image is in the same directory or provide the full path)\n",
    "image_path = \"Backend/Images/download.jpg\"\n",
    "image = Image.open(image_path)"
   ]
  },
  {
   "cell_type": "code",
   "execution_count": 4,
   "id": "c74ae712-a69e-4f46-9274-bb50a246cf21",
   "metadata": {},
   "outputs": [],
   "source": [
    "# # Make the prediction\n",
    "# prediction = pipe(image)"
   ]
  },
  {
   "cell_type": "code",
   "execution_count": 5,
   "id": "273560e3-3636-4076-8cfb-71c616b46b99",
   "metadata": {},
   "outputs": [],
   "source": [
    "# # Print the predicted text\n",
    "# print(prediction)"
   ]
  },
  {
   "cell_type": "code",
   "execution_count": 6,
   "id": "2546ff93-a453-4040-88fe-8529d50717bc",
   "metadata": {},
   "outputs": [],
   "source": [
    "# model = pipe.model\n",
    "# tokenizer = pipe.tokenizer"
   ]
  },
  {
   "cell_type": "code",
   "execution_count": 7,
   "id": "13acdcf0-4123-4abb-9083-6b343c58a385",
   "metadata": {},
   "outputs": [],
   "source": [
    "saved_model_directory = \"./saved_model_pipe\""
   ]
  },
  {
   "cell_type": "code",
   "execution_count": 8,
   "id": "12e73564-944b-4521-a74c-7f7a8d3b7b54",
   "metadata": {},
   "outputs": [],
   "source": [
    "# model.save_pretrained(save_directory)\n",
    "# tokenizer.save_pretrained(save_directory)"
   ]
  },
  {
   "cell_type": "code",
   "execution_count": 9,
   "id": "28735a0c-d83c-415d-89bc-c60dd1998e72",
   "metadata": {},
   "outputs": [
    {
     "name": "stdout",
     "output_type": "stream",
     "text": [
      "WARNING:tensorflow:From C:\\Users\\ADMIN\\AppData\\Local\\Programs\\Python\\Python312\\Lib\\site-packages\\tf_keras\\src\\losses.py:2976: The name tf.losses.sparse_softmax_cross_entropy is deprecated. Please use tf.compat.v1.losses.sparse_softmax_cross_entropy instead.\n",
      "\n"
     ]
    }
   ],
   "source": [
    "# Initialize the pipeline with the saved model and tokenizer\n",
    "pipe = pipeline(\"image-to-text\", model=saved_model_directory)"
   ]
  },
  {
   "cell_type": "code",
   "execution_count": 10,
   "id": "e3586370-4dfd-4dab-954e-2d921d10a30d",
   "metadata": {},
   "outputs": [
    {
     "name": "stderr",
     "output_type": "stream",
     "text": [
      "C:\\Users\\ADMIN\\AppData\\Local\\Programs\\Python\\Python312\\Lib\\site-packages\\transformers\\generation\\utils.py:1249: UserWarning: Using the model-agnostic default `max_length` (=20) to control the generation length. We recommend setting `max_new_tokens` to control the maximum length of the generation.\n",
      "  warnings.warn(\n"
     ]
    }
   ],
   "source": [
    "# Make the prediction\n",
    "prediction = pipe(image)"
   ]
  },
  {
   "cell_type": "code",
   "execution_count": 11,
   "id": "749e59d4-676a-49de-808d-37a5125ee3aa",
   "metadata": {},
   "outputs": [
    {
     "name": "stdout",
     "output_type": "stream",
     "text": [
      "[{'generated_text': 'because'}]\n"
     ]
    }
   ],
   "source": [
    "# Print the predicted text\n",
    "print(prediction)"
   ]
  },
  {
   "cell_type": "code",
   "execution_count": null,
   "id": "434920cc-eba1-45e2-8dc6-48c988be890f",
   "metadata": {},
   "outputs": [],
   "source": [
    "from transformers import pipeline\n",
    "from PIL import Image\n",
    "image_path = \"Backend/Images/download.jpg\"\n",
    "image = Image.open(image_path)\n",
    "saved_model_directory = \"./saved_model_pipe\"\n",
    "pipe = pipeline(\"image-to-text\", model=saved_model_directory)\n",
    "prediction = pipe(image)\n",
    "print(prediction)"
   ]
  }
 ],
 "metadata": {
  "kernelspec": {
   "display_name": "Python 3 (ipykernel)",
   "language": "python",
   "name": "python3"
  },
  "language_info": {
   "codemirror_mode": {
    "name": "ipython",
    "version": 3
   },
   "file_extension": ".py",
   "mimetype": "text/x-python",
   "name": "python",
   "nbconvert_exporter": "python",
   "pygments_lexer": "ipython3",
   "version": "3.12.4"
  }
 },
 "nbformat": 4,
 "nbformat_minor": 5
}

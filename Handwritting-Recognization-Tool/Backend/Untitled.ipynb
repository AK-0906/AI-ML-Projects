{
 "cells": [
  {
   "cell_type": "code",
   "execution_count": 8,
   "id": "c636ae90-8af5-44ec-b627-b45483820621",
   "metadata": {},
   "outputs": [],
   "source": [
    "using Genie, Genie.Router, Genie.Renderer.Json, Genie.Requests\n",
    "using Transformers\n",
    "using Flux\n",
    "using Flux.Optimise: ADAM\n",
    "using MLDatasets\n",
    "using Images"
   ]
  },
  {
   "cell_type": "code",
   "execution_count": 9,
   "id": "140f6510-fba8-4891-9c13-a66df22c4bd5",
   "metadata": {},
   "outputs": [
    {
     "ename": "LoadError",
     "evalue": "UndefVarError: `Startup` not defined",
     "output_type": "error",
     "traceback": [
      "UndefVarError: `Startup` not defined",
      "",
      "Stacktrace:",
      " [1] getproperty(x::Module, f::Symbol)",
      "   @ Base .\\Base.jl:31",
      " [2] top-level scope",
      "   @ In[9]:3"
     ]
    }
   ],
   "source": [
    "# Initialize the Genie app\n",
    "Genie.config.run_as_server = true\n",
    "Genie.Startup()"
   ]
  },
  {
   "cell_type": "code",
   "execution_count": 10,
   "id": "8a0e7968-a511-458c-b615-5b672906b12b",
   "metadata": {},
   "outputs": [
    {
     "data": {
      "text/plain": [
       "load_model_and_processor (generic function with 2 methods)"
      ]
     },
     "execution_count": 10,
     "metadata": {},
     "output_type": "execute_result"
    }
   ],
   "source": [
    "# Load the model and processor\n",
    "function load_model_and_processor(model_path=\"./saved_model\")\n",
    "    processor = Transformers.TrOCRProcessor(model_path)\n",
    "    model = VisionEncoderDecoderModel(model_path)\n",
    "    return processor, model\n",
    "end"
   ]
  },
  {
   "cell_type": "code",
   "execution_count": 11,
   "id": "7a12f9ea-9ebf-4920-81ef-b1a0f336bb74",
   "metadata": {},
   "outputs": [
    {
     "ename": "LoadError",
     "evalue": "UndefVarError: `TrOCRProcessor` not defined",
     "output_type": "error",
     "traceback": [
      "UndefVarError: `TrOCRProcessor` not defined",
      "",
      "Stacktrace:",
      " [1] load_model_and_processor(model_path::String)",
      "   @ Main .\\In[10]:3",
      " [2] top-level scope",
      "   @ In[11]:1"
     ]
    }
   ],
   "source": [
    "load_model_and_processor()"
   ]
  },
  {
   "cell_type": "code",
   "execution_count": null,
   "id": "13f059ae-742c-4fa7-92f8-697e94b3c471",
   "metadata": {},
   "outputs": [],
   "source": []
  }
 ],
 "metadata": {
  "kernelspec": {
   "display_name": "Julia 1.10.4",
   "language": "julia",
   "name": "julia-1.10"
  },
  "language_info": {
   "file_extension": ".jl",
   "mimetype": "application/julia",
   "name": "julia",
   "version": "1.10.4"
  }
 },
 "nbformat": 4,
 "nbformat_minor": 5
}

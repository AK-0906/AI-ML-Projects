{
 "cells": [
  {
   "cell_type": "code",
   "execution_count": 9,
   "id": "62311bcc-b7fb-40ad-83d4-542e530e167f",
   "metadata": {},
   "outputs": [],
   "source": [
    "import numpy as np\n",
    "import pandas as pd\n",
    "from sklearn.ensemble import RandomForestClassifier\n",
    "from sklearn.model_selection import train_test_split\n",
    "from sklearn.metrics import accuracy_score\n",
    "import joblib"
   ]
  },
  {
   "cell_type": "code",
   "execution_count": 10,
   "id": "c45bf07c-70c6-4120-9712-d346896a67d0",
   "metadata": {},
   "outputs": [],
   "source": [
    "data = pd.read_excel('Final_data.xlsx')\n",
    "train_data, test_data = train_test_split(data, test_size=0.2, train_size=0.8, random_state=42)\n",
    "train_x = train_data.drop('Exited', axis=1)\n",
    "train_y = train_data['Exited']\n",
    "test_x = test_data.drop('Exited', axis=1)\n",
    "test_y = test_data['Exited']"
   ]
  },
  {
   "cell_type": "code",
   "execution_count": 11,
   "id": "0fbe0cbe-89b1-4f79-9b0d-905090de7384",
   "metadata": {},
   "outputs": [],
   "source": [
    "model = RandomForestClassifier()\n",
    "model.fit(train_x, train_y)\n",
    "joblib.dump(model, 'model_weight.joblib')\n",
    "test_predictions = model.predict(test_x)"
   ]
  },
  {
   "cell_type": "code",
   "execution_count": 12,
   "id": "4c496fb5-22d2-4e6f-9b3d-178610ecb26d",
   "metadata": {},
   "outputs": [
    {
     "name": "stdout",
     "output_type": "stream",
     "text": [
      "Accuracy of the model: 0.8525\n"
     ]
    }
   ],
   "source": [
    "accuracy = accuracy_score(test_y, test_predictions)\n",
    "print(f'Accuracy of the model: {accuracy}')"
   ]
  },
  {
   "cell_type": "code",
   "execution_count": 14,
   "id": "48f0dd08-fd25-48e4-8f55-f259eee3d274",
   "metadata": {},
   "outputs": [
    {
     "name": "stdout",
     "output_type": "stream",
     "text": [
      "[0]\n"
     ]
    },
    {
     "name": "stderr",
     "output_type": "stream",
     "text": [
      "C:\\Users\\ADMIN\\AppData\\Local\\Programs\\Python\\Python312\\Lib\\site-packages\\sklearn\\base.py:493: UserWarning: X does not have valid feature names, but RandomForestClassifier was fitted with feature names\n",
      "  warnings.warn(\n"
     ]
    }
   ],
   "source": [
    "print(model.predict([[645,2,1,44,8,113755.78,2,1,0\t149756.71\n",
    "]]))\n"
   ]
  },
  {
   "cell_type": "code",
   "execution_count": null,
   "id": "cd270a39-53e9-49c3-b8a5-ad6e67c8d161",
   "metadata": {},
   "outputs": [],
   "source": []
  }
 ],
 "metadata": {
  "kernelspec": {
   "display_name": "Python 3 (ipykernel)",
   "language": "python",
   "name": "python3"
  },
  "language_info": {
   "codemirror_mode": {
    "name": "ipython",
    "version": 3
   },
   "file_extension": ".py",
   "mimetype": "text/x-python",
   "name": "python",
   "nbconvert_exporter": "python",
   "pygments_lexer": "ipython3",
   "version": "3.12.2"
  }
 },
 "nbformat": 4,
 "nbformat_minor": 5
}
